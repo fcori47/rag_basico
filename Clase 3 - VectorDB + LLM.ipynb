{
 "cells": [
  {
   "cell_type": "markdown",
   "metadata": {},
   "source": [
    "### Información extraida del PDF"
   ]
  },
  {
   "cell_type": "code",
   "execution_count": 1,
   "metadata": {},
   "outputs": [
    {
     "name": "stdout",
     "output_type": "stream",
     "text": [
      "206\n"
     ]
    }
   ],
   "source": [
    "from langchain_community.document_loaders import PyPDFLoader\n",
    "\n",
    "file_path = \"./los7HabitosGenteAltamenteEfectiva.pdf\" #Ruta al archivo PDF\n",
    "loader = PyPDFLoader(file_path)\n",
    "\n",
    "docs = loader.load()\n",
    "\n",
    "print(len(docs)) # Imprimimos la cantidad de partes del PDF"
   ]
  },
  {
   "cell_type": "markdown",
   "metadata": {},
   "source": [
    "# Version paga"
   ]
  },
  {
   "cell_type": "code",
   "execution_count": 2,
   "metadata": {},
   "outputs": [],
   "source": [
    "import os\n",
    "\n",
    "os.environ[\"OPENAI_API_KEY\"] = '' #API Key de OPENAI (version paga)"
   ]
  },
  {
   "cell_type": "code",
   "execution_count": 3,
   "metadata": {},
   "outputs": [],
   "source": [
    "from langchain_chroma import Chroma\n",
    "from langchain_openai import OpenAIEmbeddings\n",
    "from langchain_text_splitters import RecursiveCharacterTextSplitter"
   ]
  },
  {
   "cell_type": "markdown",
   "metadata": {},
   "source": [
    "### Ahora la VectorDB es persistente, se guardan los datos en esta carpeta"
   ]
  },
  {
   "cell_type": "code",
   "execution_count": 4,
   "metadata": {},
   "outputs": [],
   "source": [
    "import chromadb\n",
    "\n",
    "persistent_client = chromadb.PersistentClient(path='./vectordb')"
   ]
  },
  {
   "cell_type": "code",
   "execution_count": 5,
   "metadata": {},
   "outputs": [],
   "source": [
    "text_splitter = RecursiveCharacterTextSplitter(chunk_size=1000, chunk_overlap=200) #el text splitter nos va a permitir partir los documentos con el tamaño de tokens que queramos\n",
    "\n",
    "splits = text_splitter.split_documents(docs) #partimos el pdf en mas partes\n",
    "\n",
    "vectorstore = Chroma.from_documents(documents=splits, embedding=OpenAIEmbeddings(), persist_directory='./vectordb') #creamos la base de datos de vectores\n",
    "\n",
    "retriever = vectorstore.as_retriever() #unimos todo y damos la posibilidad de hacer consultas"
   ]
  },
  {
   "cell_type": "markdown",
   "metadata": {},
   "source": [
    "### Resultados"
   ]
  },
  {
   "cell_type": "code",
   "execution_count": 6,
   "metadata": {},
   "outputs": [
    {
     "name": "stderr",
     "output_type": "stream",
     "text": [
      "c:\\Users\\fcore\\RAG basico\\.venv\\Lib\\site-packages\\langchain_core\\_api\\deprecation.py:139: LangChainDeprecationWarning: The method `BaseRetriever.get_relevant_documents` was deprecated in langchain-core 0.1.46 and will be removed in 0.3.0. Use invoke instead.\n",
      "  warn_deprecated(\n"
     ]
    },
    {
     "data": {
      "text/plain": [
       "[Document(page_content='su jardín florido no reserva una parcela para la maleza.  \\n \\nCuando ya tenemos autoconciencia, debemos elegir los prop ósitos y principios que pondremos en práctica \\nen la vida; de otro modo alguna otra cosa llenará el vacío, y perderemos nuestra autoconcien cia para ser como \\nanimales rastreros, cuya finalidad primordial es la supervivencia y la reproducción. Las personas que viven en \\nese nivel no están viviendo, están siendo vividas. Están reaccionando, no to man conciencia de los dones \\nsingulares que dormitan sin desarro llarse en su interior.  \\nY para desarrollarlos no hay atajos. Rige la ley de la cosecha: siempre recogem os lo que sembramos, ni \\nmás ni menos. La ley de la justicia es inmutable, y cuanto más coherentes seamos con los prin cipios correctos, \\nmejor será nuestro juicio sobre cómo funciona el mundo, y más precisos nuestros paradigmas, nuestros mapas', metadata={'page': 186, 'source': './los7HabitosGenteAltamenteEfectiva.pdf'}),\n",
       " Document(page_content='avan zando!»  \\nComo individuos, grupos y empresas estamos a menudo tan ata reados cortando maleza que ni siquiera \\nnos damos cuenta de que tra bajamos en la selva equivocada. Y el cambiante entorno en el que vivimos hace \\ndel liderazgo efectivo, hoy más que nunca, un factor crítico de todos los aspectos de la vida independiente e \\ninterdependiente.', metadata={'page': 61, 'source': './los7HabitosGenteAltamenteEfectiva.pdf'}),\n",
       " Document(page_content='lugar correcto.  \\nSe p uede captar rápidamente la importante diferencia que existe entre ambos conceptos pensando en un \\ngrupo de productores que se abren camino en la selva con sus machetes. Son los productores, los que \\nresuelven los problemas, los que cortan la maleza y limpian  el camino.  \\nLos administradores van detrás de ellos, afilando los machetes, escribiendo manuales de política y \\nprocedimientos, llevando adelan te programas para el desarrollo muscular, introduciendo tecnologías \\nperfeccionadas y estableciendo hojas de traba jo y programas remu nerativos para los macheteros.  \\nEl líder es el que trepa al árbol más alto, supervisa toda la situa ción, y grita: «¡Selva equivocada!».  \\nPero, ¿cómo suelen responder los ajetreados productores y admi nistradores? «¡Cállate! ¡Estamos \\navan zando!»  \\nComo individuos, grupos y empresas estamos a menudo tan ata reados cortando maleza que ni siquiera', metadata={'page': 61, 'source': './los7HabitosGenteAltamenteEfectiva.pdf'}),\n",
       " Document(page_content='Sandra y yo, y el otro sobre mi rodilla izquierda —, mientras recorríamos lo s cañaverales cercanos a mi oficina. \\nLo hacíamos lentamente, durante más o me nos una hora, que dedicábamos a hablar.  \\nLos niños iban mirando hacia adelante, al camino, y no hacían ruido. Raras veces veíamos otro vehículo, y \\nla moto era tan silencio sa que nos oíamos sin esfuerzo. Por lo general terminábamos en una playa aislada \\ndonde aparcábamos la Honda y caminábamos unos doscientos metros, hasta un lugar solitario en donde \\ntomábamos un almuerzo campestre.  \\nLa playa de arena y un río de agua dulce que corrí a por la isla absorbían  totalmente la atención de los \\nniños, de modo que Sandra y yo podíamos seguir hablando sin interrupciones. Tal vez no se necesite \\ndemasiada imaginación para darse cuenta del nivel de comprensión y confianza que pudimos alcanzar pasan do', metadata={'page': 188, 'source': './los7HabitosGenteAltamenteEfectiva.pdf'})]"
      ]
     },
     "execution_count": 6,
     "metadata": {},
     "output_type": "execute_result"
    }
   ],
   "source": [
    "retriever.get_relevant_documents('afilar la sierra') #consulta que nos va a traer los documentos mas reelevantes teniendo en cuenta nuestra consulta"
   ]
  },
  {
   "cell_type": "markdown",
   "metadata": {},
   "source": [
    "### LLM"
   ]
  },
  {
   "cell_type": "code",
   "execution_count": 7,
   "metadata": {},
   "outputs": [],
   "source": [
    "from langchain_openai import ChatOpenAI\n",
    "from langchain.chains import create_retrieval_chain\n",
    "from langchain.chains.combine_documents import create_stuff_documents_chain\n",
    "from langchain_core.prompts import ChatPromptTemplate\n",
    "\n",
    "\n",
    "llm = ChatOpenAI(model='gpt-3.5-turbo-0125', temperature=0)"
   ]
  },
  {
   "cell_type": "markdown",
   "metadata": {},
   "source": [
    "### Crear prompt"
   ]
  },
  {
   "cell_type": "code",
   "execution_count": 8,
   "metadata": {},
   "outputs": [],
   "source": [
    "system_prompt = (\n",
    "    \"Tú eres un asistente para tareas de respuesta a preguntas.\"\n",
    "    \"Usa los siguientes fragmentos de contexto recuperado para responder \"\n",
    "    \"la pregunta. Si no sabes la respuesta, di que no \"\n",
    "    \"sabes. Usa un máximo de tres oraciones y mantén la \"\n",
    "    \"respuesta concisa.\"\n",
    "    \"\\n\\n\"\n",
    "    \"{context}\"\n",
    ")\n",
    "\n",
    "\n",
    "prompt = ChatPromptTemplate.from_messages(\n",
    "    [\n",
    "        (\"system\", system_prompt),\n",
    "        (\"human\", \"{input}\"),\n",
    "    ]\n",
    ")\n",
    "\n",
    "\n",
    "chain = create_stuff_documents_chain(llm, prompt)\n",
    "rag = create_retrieval_chain(retriever, chain)"
   ]
  },
  {
   "cell_type": "markdown",
   "metadata": {},
   "source": [
    "### Obtener nuestra respuesta"
   ]
  },
  {
   "cell_type": "code",
   "execution_count": 9,
   "metadata": {},
   "outputs": [],
   "source": [
    "results = rag.invoke({\"input\": \"cual es el septimo habito?\"})"
   ]
  },
  {
   "cell_type": "code",
   "execution_count": 10,
   "metadata": {},
   "outputs": [
    {
     "data": {
      "text/plain": [
       "{'input': 'cual es el septimo habito?',\n",
       " 'context': [Document(page_content='aserrando.  \\nEl séptimo hábito consiste en tomar tiempo para afilar la sierra. Engloba a todos los otros hábitos del \\nmodelo de los siete hábitos por que es el que los hace posibles.  \\n \\n \\nLas cuatro dimensio nes de la renovación  \\n \\n \\nEl séptimo hábito es CP personal. Significa preservar y realzar el mayor bien que usted posee: usted \\nmismo. Significa renovar las cua tro dimensiones de su naturaleza: la física, la espiritual, la mental y la \\nsocial/emocional.  \\nAunque  con diferentes palabras, la mayoría de las filosofías de la vida tratan implícita o explícitame nte \\nsobre estas cuatro dimensio nes. El filósofo Herb Shepherd describe la vida sanamente equilibra da en torno a \\ncuatro valores: la perspectiva (espiritual), la  autonomía (mental), la conexión (social) y el tono (físico). El gurú \\nGeorge Shee -han se refiere a cuatro roles: ser un buen animal (físico), un buen artesano (mental), un buen', metadata={'page': 176, 'source': './los7HabitosGenteAltamenteEfectiva.pdf'}),\n",
       "  Document(page_content='Los 7 hábitos de la gente altamente efectiva  Stephen R. Covey  \\n173  \\nEn uno de nuestros programas de desarrollo, un ejecutivo se refi rió a un fabrican te demandado por un \\nindustrial, antiguo cliente suyo, por incumplimiento de contrato. Cada parte creía que su posi ción era la justa, y \\npercibía a la otra como carente de ética y comple tamente indigna de confianza.  \\nCuando empezaron a practicar el quinto h ábito, dos cosas resul taron claras. Primero, los problemas \\ntempranos de comunicación ge neraron una incomprensión que más tarde se vio exacerbada por acu saciones y \\ncontraacusaciones. Segundo, al principio ambas partes actuaron de buena fe, y no deseaban el costo y las \\nmolestias de la disputa legal, pero no veían ninguna otra salida.  \\nDespués de haberse establecido esos dos puntos, prevaleció el espíritu de los hábitos cuarto, quinto y \\nsexto; el problema quedó rá pidamente resuelto y la relación continuó pr osperando.', metadata={'page': 173, 'source': './los7HabitosGenteAltamenteEfectiva.pdf'}),\n",
       "  Document(page_content='Los 7 hábitos de la gente altamente efectiva  Stephen R. Covey  \\n30 El continuum de la madurez  \\n \\nLos siete hábitos no son un conjunto de partes independientes o fórmulas fragmentadas de «excitación \\npasajera». En armonía con las leves naturales del crecimiento, pr oporcionan un enfoque gradual, secuencial y \\naltamente integrado del desarrollo de la efectividad per sonal e interpersonal. Nos mueven progresivamente \\nsobre un conti nuum de madurez, desde la dependencia hacia la independencia y hasta la interdependencia.  \\nTodos empezamos nuestra vida como niños totalmente depen dientes de otros. Somos dirigidos, educados \\ny sustentados completa mente por otros. Sin sus cuidados sólo viviríamos unas horas, o a lo sumo unos pocos \\ndías.  \\nDespués, gradualmente, a lo largo de los meses y años siguientes, nos volvemos cada vez más \\nindependientes —física, mental, emo cional y económicamente — hasta que por fin podemos, en lo esen cial,', metadata={'page': 30, 'source': './los7HabitosGenteAltamenteEfectiva.pdf'}),\n",
       "  Document(page_content='Los 7 hábitos de la gente altamente efectiva  Stephen R. Covey  \\n7 Prólogo  \\n \\n \\nAl reflexionar sobre la tarea de escribir este prólogo constaté el reto que representa agregar valor al ya \\npresentado por el doctor Stephen Covey en su obra.  \\nFue así que recordé la experiencia que tuvimos durante un semi nario que  dictó Walter Santaliz en \\nColombia sobre el tema de los Sie te Hábitos de la Gente Altamente Efectiva, el cual tenía una duración de tres \\ndías.  \\nDurante el segundo día del seminario surgieron inquietudes y preguntas sobre los principios que dan \\nsustento a l os Siete Hábitos. La noche anterior al último día nos planteamos algunos de estos in terrogantes y \\ndecidimos hacer una síntesis que nos pudiera mostrar una descripción de la esencia de cada hábito y el \\nresultado que po dríamos esperar al practicarlo.  \\nLa ta bla de la página siguiente fue el resultado de esa refle xión.', metadata={'page': 7, 'source': './los7HabitosGenteAltamenteEfectiva.pdf'})],\n",
       " 'answer': 'El séptimo hábito es tomar tiempo para afilar la sierra, que implica renovar las cuatro dimensiones de su naturaleza: física, espiritual, mental y social/emocional.'}"
      ]
     },
     "execution_count": 10,
     "metadata": {},
     "output_type": "execute_result"
    }
   ],
   "source": [
    "results"
   ]
  },
  {
   "cell_type": "code",
   "execution_count": 11,
   "metadata": {},
   "outputs": [
    {
     "data": {
      "text/plain": [
       "'El séptimo hábito es tomar tiempo para afilar la sierra, que implica renovar las cuatro dimensiones de su naturaleza: física, espiritual, mental y social/emocional.'"
      ]
     },
     "execution_count": 11,
     "metadata": {},
     "output_type": "execute_result"
    }
   ],
   "source": [
    "results['answer']"
   ]
  },
  {
   "cell_type": "code",
   "execution_count": 12,
   "metadata": {},
   "outputs": [
    {
     "data": {
      "text/plain": [
       "{'input': 'cual es el primer habito',\n",
       " 'context': [Document(page_content='El tercer hábito es el fruto personal, la realización práctica del primero y el segundo.  \\nEl primer hábito dice: «Tú eres el creador. Tú estás a cargo de todo». Se basa en los cuatro privilegios \\nhumanos de la imaginació n, la conciencia moral, la voluntad independiente y, en particular, la autoconciencia. \\nNos permite decir: «Éste es un programa deficiente que yo recibí en mi infancia procedente de mi espejo social. \\nNo me gusta ese guión inefectivo. Puedo cambiar».  \\nEl segu ndo hábito es la creación primera o mental. Se basa en la imaginación (la capacidad para visualizar, \\npara ver lo potencial, para crear con nuestras mentes lo que en el presente no podemos ver con nuestros ojos) \\ny en la conciencia moral (que es la capacidad  para de tectar nuestra propia singularidad y las directrices \\npersonales, morales y éticas que nos permiten llevarla felizmente a cabo). Supone el contacto profundo con', metadata={'page': 89, 'source': './los7HabitosGenteAltamenteEfectiva.pdf'}),\n",
       "  Document(page_content='personales, morales y éticas que nos permiten llevarla felizmente a cabo). Supone el contacto profundo con \\nnuestros paradigmas y valores básicos, y la visión de aquello en lo que podemos convert irnos.  \\nEl tercer hábito es la segunda creación, la creación física. Es la realización, la actualización, la aparición \\nnatural del primero y el se gundo hábito. Es el ejercicio de la voluntad independiente que pasa a ser centrado en \\nprincipios. Es la puesta  en práctica incesante, mo mento a momento.  \\nEl primero y segundo hábitos son absolutamente esenciales y prerrequisitos del tercero. Uno no puede \\npasar a centrarse en princi pios sin tomar primero conciencia de su propia naturaleza proactiva, y desarrollarl a. \\nNo se puede pasar a los principios sin tomar primero conciencia de los propios paradigmas y sin comprender \\ncómo hay que cambiarlos y alinearlos con los principios. No se puede pasar a los principios sin una visión de la', metadata={'page': 89, 'source': './los7HabitosGenteAltamenteEfectiva.pdf'}),\n",
       "  Document(page_content='Hábito  Descripción  Resultados  \\n• Proactividad  • Hábito de la \\nresponsabilidad  • Libertad  \\n• Empezar con un \\nfin en mente  • Hábito del liderazgo \\npersonal  • Sentido a la vida  \\n• Establecer \\nprimero lo primero  • Hábito de la \\nadministraci ón personal  • Priorizar lo \\nimportante vs. lo \\nurgente  \\n• Pensar en \\nganar/ganar  • Hábito del beneficio \\nmutuo  • Bien común \\nEquidad  \\n• Procurar primero \\ncomprender, y \\ndespués ser \\ncomprendido  • Hábito de la \\ncomunicación efectiva  • Respeto Convivencia  \\n• Sinergiz ar • Hábito de \\ninterdependencia  • Logros Innovación  \\n• Afilar la sierra  • Hábito de la mejora \\ncontinua  • Balance Renovación  \\n \\n \\n• Poner primero lo primero nos permite liberarnos de la tiranía  de lo urgente para dedicar tiempo a las \\nactividades que verdadera mente dan sentido a nuestras vidas. Es la disciplina de llevar a cabo  \\nlo importante, lo cual nos permite convertir en realidad la visión que  forjamos en el hábito 2.', metadata={'page': 7, 'source': './los7HabitosGenteAltamenteEfectiva.pdf'}),\n",
       "  Document(page_content='aceptación y amor, de pertenencia, d el sentido de nuestra propia valía , de la sensación de que importamos.  \\nSeamos o no conscientes de ella, la controlemos o no, hay una  primera creación en todas las partes de \\nnuestra vida. Somos la segunda creación de nuestro propio designio proactivo, o la segunda creación de las \\nagendas de otras personas, de las circunstancias y de los hábitos del pasado.  \\nLas capacidades exclusivamente humanas de la autoconciencia, la imaginación y la conciencia m oral nos \\npermiten examinar las primeras creaciones y hacernos cargo de nuestra primera crea ción, escribir nuestro \\npropio guión. Dicho de otro modo, el primer hábito dice «Tú eres el creador». El segundo hábito es la primera \\ncreación.  \\n \\nLiderazgo y administ ración: las dos creaciones  \\n \\nEl segundo hábito se basa en principios de liderazgo personal, lo que significa que el liderazgo es la', metadata={'page': 61, 'source': './los7HabitosGenteAltamenteEfectiva.pdf'})],\n",
       " 'answer': 'El primer hábito es la proactividad, que se trata de asumir la responsabilidad y la libertad en nuestras vidas.'}"
      ]
     },
     "execution_count": 12,
     "metadata": {},
     "output_type": "execute_result"
    }
   ],
   "source": [
    "rag.invoke({\"input\": \"cual es el primer habito\"})"
   ]
  },
  {
   "cell_type": "markdown",
   "metadata": {},
   "source": [
    "### Una vez ya lo tenemos guardado en disco"
   ]
  },
  {
   "cell_type": "code",
   "execution_count": 13,
   "metadata": {},
   "outputs": [],
   "source": [
    "chroma_local = Chroma(persist_directory=\"./vectordb\", embedding_function=OpenAIEmbeddings())"
   ]
  },
  {
   "cell_type": "code",
   "execution_count": 14,
   "metadata": {},
   "outputs": [],
   "source": [
    "retriever = chroma_local.as_retriever()"
   ]
  },
  {
   "cell_type": "code",
   "execution_count": 15,
   "metadata": {},
   "outputs": [
    {
     "data": {
      "text/plain": [
       "[Document(page_content='su jardín florido no reserva una parcela para la maleza.  \\n \\nCuando ya tenemos autoconciencia, debemos elegir los prop ósitos y principios que pondremos en práctica \\nen la vida; de otro modo alguna otra cosa llenará el vacío, y perderemos nuestra autoconcien cia para ser como \\nanimales rastreros, cuya finalidad primordial es la supervivencia y la reproducción. Las personas que viven en \\nese nivel no están viviendo, están siendo vividas. Están reaccionando, no to man conciencia de los dones \\nsingulares que dormitan sin desarro llarse en su interior.  \\nY para desarrollarlos no hay atajos. Rige la ley de la cosecha: siempre recogem os lo que sembramos, ni \\nmás ni menos. La ley de la justicia es inmutable, y cuanto más coherentes seamos con los prin cipios correctos, \\nmejor será nuestro juicio sobre cómo funciona el mundo, y más precisos nuestros paradigmas, nuestros mapas', metadata={'page': 186, 'source': './los7HabitosGenteAltamenteEfectiva.pdf'}),\n",
       " Document(page_content='avan zando!»  \\nComo individuos, grupos y empresas estamos a menudo tan ata reados cortando maleza que ni siquiera \\nnos damos cuenta de que tra bajamos en la selva equivocada. Y el cambiante entorno en el que vivimos hace \\ndel liderazgo efectivo, hoy más que nunca, un factor crítico de todos los aspectos de la vida independiente e \\ninterdependiente.', metadata={'page': 61, 'source': './los7HabitosGenteAltamenteEfectiva.pdf'}),\n",
       " Document(page_content='lugar correcto.  \\nSe p uede captar rápidamente la importante diferencia que existe entre ambos conceptos pensando en un \\ngrupo de productores que se abren camino en la selva con sus machetes. Son los productores, los que \\nresuelven los problemas, los que cortan la maleza y limpian  el camino.  \\nLos administradores van detrás de ellos, afilando los machetes, escribiendo manuales de política y \\nprocedimientos, llevando adelan te programas para el desarrollo muscular, introduciendo tecnologías \\nperfeccionadas y estableciendo hojas de traba jo y programas remu nerativos para los macheteros.  \\nEl líder es el que trepa al árbol más alto, supervisa toda la situa ción, y grita: «¡Selva equivocada!».  \\nPero, ¿cómo suelen responder los ajetreados productores y admi nistradores? «¡Cállate! ¡Estamos \\navan zando!»  \\nComo individuos, grupos y empresas estamos a menudo tan ata reados cortando maleza que ni siquiera', metadata={'page': 61, 'source': './los7HabitosGenteAltamenteEfectiva.pdf'}),\n",
       " Document(page_content='Sandra y yo, y el otro sobre mi rodilla izquierda —, mientras recorríamos lo s cañaverales cercanos a mi oficina. \\nLo hacíamos lentamente, durante más o me nos una hora, que dedicábamos a hablar.  \\nLos niños iban mirando hacia adelante, al camino, y no hacían ruido. Raras veces veíamos otro vehículo, y \\nla moto era tan silencio sa que nos oíamos sin esfuerzo. Por lo general terminábamos en una playa aislada \\ndonde aparcábamos la Honda y caminábamos unos doscientos metros, hasta un lugar solitario en donde \\ntomábamos un almuerzo campestre.  \\nLa playa de arena y un río de agua dulce que corrí a por la isla absorbían  totalmente la atención de los \\nniños, de modo que Sandra y yo podíamos seguir hablando sin interrupciones. Tal vez no se necesite \\ndemasiada imaginación para darse cuenta del nivel de comprensión y confianza que pudimos alcanzar pasan do', metadata={'page': 188, 'source': './los7HabitosGenteAltamenteEfectiva.pdf'})]"
      ]
     },
     "execution_count": 15,
     "metadata": {},
     "output_type": "execute_result"
    }
   ],
   "source": [
    "retriever.get_relevant_documents('afilar la sierra') #consulta que nos va a traer los documentos mas reelevantes teniendo en cuenta nuestra consulta"
   ]
  },
  {
   "cell_type": "markdown",
   "metadata": {},
   "source": [
    "# Version gratis"
   ]
  },
  {
   "cell_type": "code",
   "execution_count": 2,
   "metadata": {},
   "outputs": [],
   "source": [
    "from langchain_chroma import Chroma\n",
    "from langchain_community.embeddings import HuggingFaceEmbeddings\n",
    "from langchain_text_splitters import RecursiveCharacterTextSplitter"
   ]
  },
  {
   "cell_type": "code",
   "execution_count": 5,
   "metadata": {},
   "outputs": [
    {
     "name": "stderr",
     "output_type": "stream",
     "text": [
      "c:\\Users\\fcore\\RAG basico\\.venv\\Lib\\site-packages\\langchain_core\\_api\\deprecation.py:139: LangChainDeprecationWarning: The class `HuggingFaceEmbeddings` was deprecated in LangChain 0.2.2 and will be removed in 0.3.0. An updated version of the class exists in the langchain-huggingface package and should be used instead. To use it run `pip install -U langchain-huggingface` and import as `from langchain_huggingface import HuggingFaceEmbeddings`.\n",
      "  warn_deprecated(\n",
      "c:\\Users\\fcore\\RAG basico\\.venv\\Lib\\site-packages\\sentence_transformers\\cross_encoder\\CrossEncoder.py:11: TqdmWarning: IProgress not found. Please update jupyter and ipywidgets. See https://ipywidgets.readthedocs.io/en/stable/user_install.html\n",
      "  from tqdm.autonotebook import tqdm, trange\n"
     ]
    }
   ],
   "source": [
    "embeddings = HuggingFaceEmbeddings(model_name='all-MiniLM-L6-v2') #modelo de embeddings gratis"
   ]
  },
  {
   "cell_type": "markdown",
   "metadata": {},
   "source": [
    "### Ahora la VectorDB es persistente, se guardan los datos en esta carpeta"
   ]
  },
  {
   "cell_type": "code",
   "execution_count": 3,
   "metadata": {},
   "outputs": [],
   "source": [
    "import chromadb\n",
    "\n",
    "persistent_client = chromadb.PersistentClient(path='./vectordb_gratis')"
   ]
  },
  {
   "cell_type": "code",
   "execution_count": 6,
   "metadata": {},
   "outputs": [],
   "source": [
    "text_splitter = RecursiveCharacterTextSplitter(chunk_size=500, chunk_overlap=50) #usamos menos tokens que en el anterior debido a que este modelo es inferior\n",
    "splits = text_splitter.split_documents(docs)\n",
    "vectorstore = Chroma.from_documents(documents=splits, embedding=embeddings, persist_directory='./vectordb_gratis')\n",
    "\n",
    "retriever = vectorstore.as_retriever()"
   ]
  },
  {
   "cell_type": "markdown",
   "metadata": {},
   "source": [
    "### Resultados"
   ]
  },
  {
   "cell_type": "code",
   "execution_count": 8,
   "metadata": {},
   "outputs": [
    {
     "data": {
      "text/plain": [
       "[Document(page_content='—¡Se le ve exhausto! —exclama usted —. ¿Cuánto t iempo hace que trabaja?  \\n—Más de cinco horas, y estoy molido. Esto no es sencillo.  \\n—¿Por qué no hace una pausa durante unos minutos y afila la sierra? —pregunta usted —. Estoy seguro de \\nque cortaría mucho más rápido.  \\n—No tengo tiempo para afilar la sierra —dice el hombre enfáti camente —. Estoy demasiado ocupado \\naserrando.  \\nEl séptimo hábito consiste en tomar tiempo para afilar la sierra. Engloba a todos los otros hábitos del', metadata={'page': 176, 'source': './los7HabitosGenteAltamenteEfectiva.pdf'}),\n",
       " Document(page_content='y conoceremos el lugar por primera vez.', metadata={'page': 27, 'source': './los7HabitosGenteAltamenteEfectiva.pdf'}),\n",
       " Document(page_content='de unas veinte personas, y una de ellas cayó enferma. Entonces llamó a su esposa, que estaba en Calif ornia,', metadata={'page': 83, 'source': './los7HabitosGenteAltamenteEfectiva.pdf'}),\n",
       " Document(page_content='interdependencia  • Logros Innovación  \\n• Afilar la sierra  • Hábito de la mejora \\ncontinua  • Balance Renovación  \\n \\n \\n• Poner primero lo primero nos permite liberarnos de la tiranía  de lo urgente para dedicar tiempo a las \\nactividades que verdadera mente dan sentido a nuestras vidas. Es la disciplina de llevar a cabo  \\nlo importante, lo cual nos permite convertir en realidad la visión que  forjamos en el hábito 2.', metadata={'page': 7, 'source': './los7HabitosGenteAltamenteEfectiva.pdf'})]"
      ]
     },
     "execution_count": 8,
     "metadata": {},
     "output_type": "execute_result"
    }
   ],
   "source": [
    "retriever.get_relevant_documents('afilar la sierra') "
   ]
  },
  {
   "cell_type": "markdown",
   "metadata": {},
   "source": [
    "### LLM"
   ]
  },
  {
   "cell_type": "code",
   "execution_count": 14,
   "metadata": {},
   "outputs": [],
   "source": [
    "from langchain_community.chat_models import ChatOllama\n",
    "from langchain.chains import create_retrieval_chain\n",
    "from langchain.chains.combine_documents import create_stuff_documents_chain\n",
    "from langchain_core.prompts import ChatPromptTemplate\n",
    "\n",
    "\n",
    "llm = ChatOllama(model='llama3', temperature=0)"
   ]
  },
  {
   "cell_type": "markdown",
   "metadata": {},
   "source": [
    "### Crear prompt"
   ]
  },
  {
   "cell_type": "code",
   "execution_count": 16,
   "metadata": {},
   "outputs": [],
   "source": [
    "system_prompt = (\n",
    "    \"Tú eres un asistente para tareas de respuesta a preguntas.\"\n",
    "    \"Usa los siguientes fragmentos de contexto recuperado para responder \"\n",
    "    \"la pregunta. Si no sabes la respuesta, di que no \"\n",
    "    \"sabes. Usa un máximo de tres oraciones y mantén la \"\n",
    "    \"respuesta concisa.\"\n",
    "    \"\\n\\n\"\n",
    "    \"{context}\"\n",
    ")\n",
    "\n",
    "\n",
    "prompt = ChatPromptTemplate.from_messages(\n",
    "    [\n",
    "        (\"system\", system_prompt),\n",
    "        (\"human\", \"{input}\"),\n",
    "    ]\n",
    ")\n",
    "\n",
    "\n",
    "chain = create_stuff_documents_chain(llm, prompt)\n",
    "rag = create_retrieval_chain(retriever, chain)"
   ]
  },
  {
   "cell_type": "markdown",
   "metadata": {},
   "source": [
    "### Obtener nuestra respuesta"
   ]
  },
  {
   "cell_type": "code",
   "execution_count": 17,
   "metadata": {},
   "outputs": [],
   "source": [
    "results = rag.invoke({\"input\": \"que es afilar la sierra?\"})"
   ]
  },
  {
   "cell_type": "code",
   "execution_count": 18,
   "metadata": {},
   "outputs": [
    {
     "data": {
      "text/plain": [
       "{'input': 'que es afilar la sierra?',\n",
       " 'context': [Document(page_content='y conoceremos el lugar por primera vez.', metadata={'page': 27, 'source': './los7HabitosGenteAltamenteEfectiva.pdf'}),\n",
       "  Document(page_content='—¡Se le ve exhausto! —exclama usted —. ¿Cuánto t iempo hace que trabaja?  \\n—Más de cinco horas, y estoy molido. Esto no es sencillo.  \\n—¿Por qué no hace una pausa durante unos minutos y afila la sierra? —pregunta usted —. Estoy seguro de \\nque cortaría mucho más rápido.  \\n—No tengo tiempo para afilar la sierra —dice el hombre enfáti camente —. Estoy demasiado ocupado \\naserrando.  \\nEl séptimo hábito consiste en tomar tiempo para afilar la sierra. Engloba a todos los otros hábitos del', metadata={'page': 176, 'source': './los7HabitosGenteAltamenteEfectiva.pdf'}),\n",
       "  Document(page_content='mientras yo le describo a la joven, y usted sabe que voy a re cibir con el mismo respeto la descripción que me va \\na hacer de la an ciana. Ambos n os comprometemos a tratar de comprender el punto de vista del otro en \\nprofundidad, y a trabajar juntos en favor de la ter cera alternativa, de la solución sinérgica, que será una \\nrespuesta me jor para los dos.  \\nUna relación en la que las cuentas bancarias s on ricas, y ambas partes están profundamente', metadata={'page': 138, 'source': './los7HabitosGenteAltamenteEfectiva.pdf'}),\n",
       "  Document(page_content='de unas veinte personas, y una de ellas cayó enferma. Entonces llamó a su esposa, que estaba en Calif ornia,', metadata={'page': 83, 'source': './los7HabitosGenteAltamenteEfectiva.pdf'})],\n",
       " 'answer': 'En el contexto del diálogo, \"afilar la sierra\" se refiere a tomar un descanso o una pausa para rejuvenecer y mejorar el rendimiento. En este caso, el hombre está trabajando más de cinco horas sin parar y su amigo le sugiere que tome un momento para relajarse y volver a enfocarse en su tarea.'}"
      ]
     },
     "execution_count": 18,
     "metadata": {},
     "output_type": "execute_result"
    }
   ],
   "source": [
    "results"
   ]
  },
  {
   "cell_type": "code",
   "execution_count": 19,
   "metadata": {},
   "outputs": [
    {
     "data": {
      "text/plain": [
       "'En el contexto del diálogo, \"afilar la sierra\" se refiere a tomar un descanso o una pausa para rejuvenecer y mejorar el rendimiento. En este caso, el hombre está trabajando más de cinco horas sin parar y su amigo le sugiere que tome un momento para relajarse y volver a enfocarse en su tarea.'"
      ]
     },
     "execution_count": 19,
     "metadata": {},
     "output_type": "execute_result"
    }
   ],
   "source": [
    "results['answer']"
   ]
  },
  {
   "cell_type": "code",
   "execution_count": 21,
   "metadata": {},
   "outputs": [
    {
     "data": {
      "text/plain": [
       "{'input': 'cual es el habito 5?',\n",
       " 'context': [Document(page_content='hábitos 4, 5 y 6. Comprender la secuencia ayuda a controlar el desarrollo con más efectividad, pero no le \\nsugiero al lector que se  aísle  durante varios años hasta desarro llar completamente los hábitos 1, 2 y 3.  \\nComo parte de un mundo interdependiente, uno tiene que rela cionarse con ese mundo día tras día. Pero \\nlos problemas más apre miantes de ese mundo pueden fácilmente oscurecer las causas de carácter crónico. La', metadata={'page': 31, 'source': './los7HabitosGenteAltamenteEfectiva.pdf'}),\n",
       "  Document(page_content='Los 7 hábitos de la gente altamente efectiva  Stephen R. Covey  \\n147 El corazó n tiene sus razones  \\nque la razón no com prende.  \\n \\nPASCAL  \\n \\nSuponga el lector que tiene problemas en la vista y que decide vi sitar a un oculista. Después de escuchar \\nbrevemente su queja, el ocu lista se saca las gafas y se las entrega.  \\n—Póngase éstas —le dic e—. Yo he usado este par de gafas du rante diez años y realmente me han sido \\nmuy útiles. Tengo otro par en casa; quédese usted con éste.', metadata={'page': 147, 'source': './los7HabitosGenteAltamenteEfectiva.pdf'}),\n",
       "  Document(page_content='Los 7 hábitos de la gente altamente efectiva  Stephen R. Covey  \\n106 Pero si uno tiene profundamente internalizado el segundo hábito en el corazón y en la mente, serán esos \\nvalores los que nos guíen. Se puede subordinar con integridad la agenda a los valores. Se puede adaptar, se \\npuede ser flexible. Uno no debe  sentirse culpable cuando no cumple con la programación horaria o cuando hay \\nque cambiarla.  \\n \\nProgresos de la cuarta generación', metadata={'page': 106, 'source': './los7HabitosGenteAltamenteEfectiva.pdf'}),\n",
       "  Document(page_content='Los 7 hábitos de la gente altamente efectiva  Stephen R. Covey  \\n3  \\n \\n \\n \\n \\n \\n \\n \\n \\n \\n \\n \\n \\nPara mis colegas  \\nque tienen el poder  \\ny lo transmiten', metadata={'page': 3, 'source': './los7HabitosGenteAltamenteEfectiva.pdf'})],\n",
       " 'answer': 'Según los 7 hábitos de la gente altamente efectiva de Stephen R. Covey, el hábito 5 se refiere a \"Aprender a decir que sí y no\". En otras palabras, es importante aprender a priorizar y decir que sí a las cosas importantes, mientras que también es necesario aprender a decir que no a las cosas que no son prioritarias o que pueden interferir con la vida personal.'}"
      ]
     },
     "execution_count": 21,
     "metadata": {},
     "output_type": "execute_result"
    }
   ],
   "source": [
    "rag.invoke({\"input\": \"cual es el habito 5?\"})"
   ]
  },
  {
   "cell_type": "markdown",
   "metadata": {},
   "source": [
    "### Una vez ya lo tenemos guardado en disco"
   ]
  },
  {
   "cell_type": "code",
   "execution_count": 22,
   "metadata": {},
   "outputs": [],
   "source": [
    "chroma_local = Chroma(persist_directory=\"./vectordb_gratis\", embedding_function=embeddings)"
   ]
  },
  {
   "cell_type": "code",
   "execution_count": 23,
   "metadata": {},
   "outputs": [],
   "source": [
    "retriever = chroma_local.as_retriever()"
   ]
  },
  {
   "cell_type": "code",
   "execution_count": 25,
   "metadata": {},
   "outputs": [
    {
     "data": {
      "text/plain": [
       "[Document(page_content='Los 7 hábitos de la gente altamente efectiva  Stephen R. Covey  \\n106 Pero si uno tiene profundamente internalizado el segundo hábito en el corazón y en la mente, serán esos \\nvalores los que nos guíen. Se puede subordinar con integridad la agenda a los valores. Se puede adaptar, se \\npuede ser flexible. Uno no debe  sentirse culpable cuando no cumple con la programación horaria o cuando hay \\nque cambiarla.  \\n \\nProgresos de la cuarta generación', metadata={'page': 106, 'source': './los7HabitosGenteAltamenteEfectiva.pdf'}),\n",
       " Document(page_content='hábitos 4, 5 y 6. Comprender la secuencia ayuda a controlar el desarrollo con más efectividad, pero no le \\nsugiero al lector que se  aísle  durante varios años hasta desarro llar completamente los hábitos 1, 2 y 3.  \\nComo parte de un mundo interdependiente, uno tiene que rela cionarse con ese mundo día tras día. Pero \\nlos problemas más apre miantes de ese mundo pueden fácilmente oscurecer las causas de carácter crónico. La', metadata={'page': 31, 'source': './los7HabitosGenteAltamenteEfectiva.pdf'}),\n",
       " Document(page_content='Los 7 hábitos de la gente altamente efectiva  Stephen R. Covey  \\n28 Panorama general de los siete hábitos  \\n \\nSomos lo que hacemos día a día.  \\nDe modo que la excelencia no es un acto,  \\n sino un hábito.  \\nARISTÓTELES  \\n \\nBásicamente, nu estro carácter está compuesto por nuestros hábi tos. «Siembra un pensamiento, cosecha \\nuna acción; siembra una ac ción, cosecha un hábito. Siembra un hábito, cosecha un carácter; siembra un \\ncarácter, cosecha un destino», dice el proverbio.', metadata={'page': 28, 'source': './los7HabitosGenteAltamenteEfectiva.pdf'}),\n",
       " Document(page_content='Los 7 hábitos de la gente altamente efectiva  Stephen R. Covey  \\n88 Tercer hábito  \\nEstablezca primero lo primero  \\nPrincipios de administración personal  \\n \\n  \\n \\n \\n \\n \\n Interdependencia\\nIndependencia\\nDependenciaAfile la Sierra  7Procure primero\\ncomprender…\\ny después ser\\ncomprendido\\n5Sinergice\\n6\\nPiense en\\nganar/ ganar\\n4Victoria\\nPública\\nVictoria\\nPrivada3\\nPrimero\\nLo primero\\n1\\nSea \\nproactivo2\\nEmpiece con un \\nfin en menteInterdependencia\\nIndependencia\\nDependenciaAfile la Sierra  7Procure primero', metadata={'page': 88, 'source': './los7HabitosGenteAltamenteEfectiva.pdf'})]"
      ]
     },
     "execution_count": 25,
     "metadata": {},
     "output_type": "execute_result"
    }
   ],
   "source": [
    "retriever.get_relevant_documents('habito 6')"
   ]
  }
 ],
 "metadata": {
  "kernelspec": {
   "display_name": "base",
   "language": "python",
   "name": "python3"
  },
  "language_info": {
   "codemirror_mode": {
    "name": "ipython",
    "version": 3
   },
   "file_extension": ".py",
   "mimetype": "text/x-python",
   "name": "python",
   "nbconvert_exporter": "python",
   "pygments_lexer": "ipython3",
   "version": "3.11.5"
  }
 },
 "nbformat": 4,
 "nbformat_minor": 2
}
