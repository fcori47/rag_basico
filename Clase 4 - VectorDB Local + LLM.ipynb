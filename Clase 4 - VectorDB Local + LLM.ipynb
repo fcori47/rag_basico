{
 "cells": [
  {
   "cell_type": "markdown",
   "metadata": {},
   "source": [
    "# Version paga"
   ]
  },
  {
   "cell_type": "code",
   "execution_count": 1,
   "metadata": {},
   "outputs": [],
   "source": [
    "import os\n",
    "\n",
    "\n",
    "os.environ[\"OPENAI_API_KEY\"] = '' #API Key de OPENAI (version paga)"
   ]
  },
  {
   "cell_type": "code",
   "execution_count": 2,
   "metadata": {},
   "outputs": [],
   "source": [
    "from langchain_chroma import Chroma\n",
    "from langchain_openai import OpenAIEmbeddings\n",
    "from langchain_openai import ChatOpenAI\n",
    "from langchain.chains import create_retrieval_chain\n",
    "from langchain.chains.combine_documents import create_stuff_documents_chain\n",
    "from langchain_core.prompts import ChatPromptTemplate\n",
    "\n",
    "\n",
    "\n",
    "llm = ChatOpenAI(model='gpt-3.5-turbo-0125', temperature=0)"
   ]
  },
  {
   "cell_type": "markdown",
   "metadata": {},
   "source": [
    "## Retriever ya guardado"
   ]
  },
  {
   "cell_type": "code",
   "execution_count": 3,
   "metadata": {},
   "outputs": [],
   "source": [
    "chroma_local = Chroma(persist_directory=\"./vectordb\", embedding_function=OpenAIEmbeddings())"
   ]
  },
  {
   "cell_type": "code",
   "execution_count": 4,
   "metadata": {},
   "outputs": [],
   "source": [
    "retriever = chroma_local.as_retriever()"
   ]
  },
  {
   "cell_type": "markdown",
   "metadata": {},
   "source": [
    "## Funciones"
   ]
  },
  {
   "cell_type": "code",
   "execution_count": 5,
   "metadata": {},
   "outputs": [],
   "source": [
    "texto = \"\"\"Tú eres un asistente para tareas de respuesta a preguntas.\"\n",
    "    \"Usa los siguientes fragmentos de contexto recuperado para responder \"\n",
    "    \"la pregunta. Si no sabes la respuesta, di que no \"\n",
    "    \"sabes. Usa un máximo de tres oraciones y mantén la \"\n",
    "    \"respuesta concisa.\"\"\""
   ]
  },
  {
   "cell_type": "code",
   "execution_count": 6,
   "metadata": {},
   "outputs": [],
   "source": [
    "def prompt(texto):\n",
    "    system_prompt = (\n",
    "    texto+\n",
    "    \"\\n\\n\"\n",
    "    \"{context}\"\n",
    "    )\n",
    "\n",
    "    prompt = ChatPromptTemplate.from_messages(\n",
    "        [\n",
    "            (\"system\", system_prompt),\n",
    "            (\"human\", \"{input}\"),\n",
    "        ])\n",
    "    return prompt"
   ]
  },
  {
   "cell_type": "code",
   "execution_count": 7,
   "metadata": {},
   "outputs": [],
   "source": [
    "def respuesta(pregunta, llm, chroma_db, prompt):\n",
    "    retriever = chroma_db.as_retriever()\n",
    "\n",
    "    chain = create_stuff_documents_chain(llm, prompt)\n",
    "    rag = create_retrieval_chain(retriever, chain)\n",
    "    \n",
    "    results = rag.invoke({\"input\": pregunta})\n",
    "    return results"
   ]
  },
  {
   "cell_type": "code",
   "execution_count": 8,
   "metadata": {},
   "outputs": [
    {
     "data": {
      "text/plain": [
       "{'input': 'cual es el habito numero 2',\n",
       " 'context': [Document(page_content='El tercer hábito es el fruto personal, la realización práctica del primero y el segundo.  \\nEl primer hábito dice: «Tú eres el creador. Tú estás a cargo de todo». Se basa en los cuatro privilegios \\nhumanos de la imaginació n, la conciencia moral, la voluntad independiente y, en particular, la autoconciencia. \\nNos permite decir: «Éste es un programa deficiente que yo recibí en mi infancia procedente de mi espejo social. \\nNo me gusta ese guión inefectivo. Puedo cambiar».  \\nEl segu ndo hábito es la creación primera o mental. Se basa en la imaginación (la capacidad para visualizar, \\npara ver lo potencial, para crear con nuestras mentes lo que en el presente no podemos ver con nuestros ojos) \\ny en la conciencia moral (que es la capacidad  para de tectar nuestra propia singularidad y las directrices \\npersonales, morales y éticas que nos permiten llevarla felizmente a cabo). Supone el contacto profundo con', metadata={'page': 89, 'source': './los7HabitosGenteAltamenteEfectiva.pdf'}),\n",
       "  Document(page_content='Los 7 hábitos de la gente altamente efectiva  Stephen R. Covey  \\n200 El ejercicio y el análisis siguientes están destinados a ayudar a que el lector perciba el efecto de un \\nparadigma de cuadrante II en un escenario empresarial y en un nivel muy práctico.  \\nSupo ngamos que usted es director de marketing de una impor tante firma farmacéutica. Está a punto de \\niniciar un día normal en la oficina y, al respaldar los diversos asuntos que deberá atender, esti ma el tiempo que \\ntendrá que dedicarle a cada uno.  \\nLa lista, s in prioridades, incluye los siguientes ítems :  \\n \\n1.   Le gustaría almorzar con el gerente general (1 - 1,30 horas).  \\n2.   El día anterior se le indicó que preparara el presupuesto de medios para el año próximo (2 o 3 días).  \\n3. La bandeja de «Entradas» está llena de asuntos pendientes (1,30  horas).  \\n4. Tiene que hablar con el gerente de ventas sobre las ventas del mes  pasado; su oficina está en el otro \\nextremo del corredor (media hora).', metadata={'page': 200, 'source': './los7HabitosGenteAltamenteEfectiva.pdf'}),\n",
       "  Document(page_content='la propia vida.  \\nEs interesante que los siete hábitos pertenezcan todos al cuadran te II. Todos abordan cosas de \\nimportancia fundamental que, si se em prenden de modo regular, det erminan en nuestra vida una extraordi naria \\ndiferencia positiva.  \\n \\nSugerencias prácticas  \\n \\n1. Identifique una actividad del cuadrante II que usted sabe que ha  descuidado en su vida, una actividad \\nque bien realizada tendrá un  efecto significativo en su vida, per sonal o profesionalmente. Pón gala por escrito y \\ncomprométase a realizarla.  \\n2. Dibuje una matriz de administración del tiempo y trate de estimar  qué porcentaje de su tiempo destina a \\ncada cuadrante. Después re gistre su uso del tiempo durante tres días en int ervalos de quince  \\nminutos. ¿Cuan precisa fue su estimación? ¿Está satisfecho con el  modo en que utiliza el tiempo? ¿Qué \\nnecesita para cambiar?  \\n3. Haga una lista de las responsabilidades que podría delegar y de las  personas que podrían hacerse', metadata={'page': 112, 'source': './los7HabitosGenteAltamenteEfectiva.pdf'}),\n",
       "  Document(page_content='en sus corazones y sus mentes. No han internalizado verdaderamente el segundo hábito.  \\nMuchas personas reconocen el valor que tienen en sus vidas las  actividad es del cuadrante II, ya las \\nidentifiquen como tales o no. E intentan dar prioridad a esas actividades e integrarlas en sus vidas re curriendo \\nsólo a la autodisciplina. Pero sin un centro de principios y un enunciado de la misión personal, carecen de los \\ncimientos nece sarios para sostener sus esfuerzos. Están trabajando sobre las hojas, sobre las actitudes y las \\nconductas de la disciplina, sin siquiera pen sar en examinar las raíces, los paradigmas básicos de los que fluyen \\nsus actitudes y conductas natural es. \\nConcentrarse en el cuadrante II es un paradigma que surge de un centro de principios. Si uno está \\ncentrado en el cónyuge, en el dine ro, en los amigos, en el placer, o en cualquier otro factor extrínseco,', metadata={'page': 96, 'source': './los7HabitosGenteAltamenteEfectiva.pdf'})],\n",
       " 'answer': 'El segundo hábito es la creación primera o mental, basado en la imaginación y la conciencia moral. Se trata de visualizar lo potencial y detectar nuestra singularidad para llevar a cabo directrices personales.'}"
      ]
     },
     "execution_count": 8,
     "metadata": {},
     "output_type": "execute_result"
    }
   ],
   "source": [
    "respuesta('cual es el habito numero 2', llm, chroma_local, prompt(texto))"
   ]
  },
  {
   "cell_type": "markdown",
   "metadata": {},
   "source": [
    "# Version gratis"
   ]
  },
  {
   "cell_type": "code",
   "execution_count": 1,
   "metadata": {},
   "outputs": [],
   "source": [
    "from langchain_chroma import Chroma\n",
    "from langchain_community.embeddings import HuggingFaceEmbeddings"
   ]
  },
  {
   "cell_type": "code",
   "execution_count": 2,
   "metadata": {},
   "outputs": [
    {
     "name": "stderr",
     "output_type": "stream",
     "text": [
      "c:\\Users\\fcore\\RAG basico\\.venv\\Lib\\site-packages\\langchain_core\\_api\\deprecation.py:139: LangChainDeprecationWarning: The class `HuggingFaceEmbeddings` was deprecated in LangChain 0.2.2 and will be removed in 0.3.0. An updated version of the class exists in the langchain-huggingface package and should be used instead. To use it run `pip install -U langchain-huggingface` and import as `from langchain_huggingface import HuggingFaceEmbeddings`.\n",
      "  warn_deprecated(\n",
      "c:\\Users\\fcore\\RAG basico\\.venv\\Lib\\site-packages\\sentence_transformers\\cross_encoder\\CrossEncoder.py:11: TqdmWarning: IProgress not found. Please update jupyter and ipywidgets. See https://ipywidgets.readthedocs.io/en/stable/user_install.html\n",
      "  from tqdm.autonotebook import tqdm, trange\n",
      "c:\\Users\\fcore\\RAG basico\\.venv\\Lib\\site-packages\\huggingface_hub\\file_download.py:1132: FutureWarning: `resume_download` is deprecated and will be removed in version 1.0.0. Downloads always resume when possible. If you want to force a new download, use `force_download=True`.\n",
      "  warnings.warn(\n"
     ]
    }
   ],
   "source": [
    "embeddings = HuggingFaceEmbeddings(model_name='all-MiniLM-L6-v2') #modelo de embeddings gratis"
   ]
  },
  {
   "cell_type": "markdown",
   "metadata": {},
   "source": [
    "### LLM"
   ]
  },
  {
   "cell_type": "code",
   "execution_count": 3,
   "metadata": {},
   "outputs": [],
   "source": [
    "from langchain_community.chat_models import ChatOllama\n",
    "from langchain.chains import create_retrieval_chain\n",
    "from langchain.chains.combine_documents import create_stuff_documents_chain\n",
    "from langchain_core.prompts import ChatPromptTemplate\n",
    "\n",
    "\n",
    "llm = ChatOllama(model='llama3', temperature=0)"
   ]
  },
  {
   "cell_type": "markdown",
   "metadata": {},
   "source": [
    "### Una vez ya lo tenemos guardado en disco"
   ]
  },
  {
   "cell_type": "code",
   "execution_count": 4,
   "metadata": {},
   "outputs": [],
   "source": [
    "chroma_local = Chroma(persist_directory=\"./vectordb_gratis\", embedding_function=embeddings)"
   ]
  },
  {
   "cell_type": "code",
   "execution_count": 5,
   "metadata": {},
   "outputs": [],
   "source": [
    "retriever = chroma_local.as_retriever()"
   ]
  },
  {
   "cell_type": "markdown",
   "metadata": {},
   "source": [
    "## Funciones"
   ]
  },
  {
   "cell_type": "code",
   "execution_count": 6,
   "metadata": {},
   "outputs": [],
   "source": [
    "texto = \"\"\"Tú eres un asistente para tareas de respuesta a preguntas.\"\n",
    "    \"Usa los siguientes fragmentos de contexto recuperado para responder \"\n",
    "    \"la pregunta. Si no sabes la respuesta, di que no \"\n",
    "    \"sabes. Usa un máximo de tres oraciones y mantén la \"\n",
    "    \"respuesta concisa.\"\"\""
   ]
  },
  {
   "cell_type": "code",
   "execution_count": 7,
   "metadata": {},
   "outputs": [],
   "source": [
    "def prompt(texto):\n",
    "    system_prompt = (\n",
    "    texto+\n",
    "    \"\\n\\n\"\n",
    "    \"{context}\"\n",
    "    )\n",
    "\n",
    "    prompt = ChatPromptTemplate.from_messages(\n",
    "        [\n",
    "            (\"system\", system_prompt),\n",
    "            (\"human\", \"{input}\"),\n",
    "        ])\n",
    "    return prompt"
   ]
  },
  {
   "cell_type": "code",
   "execution_count": 8,
   "metadata": {},
   "outputs": [],
   "source": [
    "def respuesta(pregunta, llm, chroma_db, prompt):\n",
    "    retriever = chroma_db.as_retriever()\n",
    "\n",
    "    chain = create_stuff_documents_chain(llm, prompt)\n",
    "    rag = create_retrieval_chain(retriever, chain)\n",
    "    \n",
    "    results = rag.invoke({\"input\": pregunta})\n",
    "    return results"
   ]
  },
  {
   "cell_type": "code",
   "execution_count": 9,
   "metadata": {},
   "outputs": [
    {
     "data": {
      "text/plain": [
       "{'input': 'quisiera saber cuales son los 3 primeros habitos',\n",
       " 'context': [Document(page_content='natural del primero y el se gundo hábito. Es el ejercicio de la voluntad independiente que pasa a ser centrado en \\nprincipios. Es la puesta  en práctica incesante, mo mento a momento.  \\nEl primero y segundo hábitos son absolutamente esenciales y prerrequisitos del tercero. Uno no puede \\npasar a centrarse en princi pios sin tomar primero conciencia de su propia naturaleza proactiva, y desarrollarl a.', metadata={'page': 89, 'source': './los7HabitosGenteAltamenteEfectiva.pdf'}),\n",
       "  Document(page_content='Los 7 hábitos de la gente altamente efectiva  Stephen R. Covey  \\n22 fundamentales de los que es tamos hablando. Los principios son el territorio. Los valores son ma pas. Cuando \\nvaloramos  los principios correctos, tenemos la verdad, un conocimiento de las cosas tal como son.  \\nLos principios son directrices para la conducta humana que han demostrado tener un valor duradero, \\npermanente. Son fundamenta les. Son esencialmente indiscutibles, por que son evidentes por sí mismos. Para', metadata={'page': 22, 'source': './los7HabitosGenteAltamenteEfectiva.pdf'}),\n",
       "  Document(page_content='Los 7 hábitos de la gente altamente efectiva  Stephen R. Covey  \\n27 el cuidadoso examen de in dividuos y sociedades que han tenido éxito en la historia, me han convencido de que \\nmuchos de los principios encarnados en los «sie te hábitos» se encuentran profundamente arraigados en \\nnuestro inte rior, en nuestra c onciencia moral y en nuestro sentido común. Para reconocerlos y desarrollarlos', metadata={'page': 27, 'source': './los7HabitosGenteAltamenteEfectiva.pdf'}),\n",
       "  Document(page_content='Los 7 hábitos de la gente altamente efectiva  Stephen R. Covey  \\n11 Veo a mis amigos o parientes lograr algún tipo de éxito o ser ob jeto de algún reconocimiento,  y sonrío y los \\nfelicito con entusiasmo. Pero por dentro me carcome la envidia. ¿Por qué siento esto?  \\n \\nTengo una personalidad fuerte. Sé que en casi todos mis inter cambios puedo controlar el resultado. Casi \\nsiempre incluso puedo hacerlo influyendo en los otros para que lleguen a la solución que yo quiero. Reflexiono', metadata={'page': 11, 'source': './los7HabitosGenteAltamenteEfectiva.pdf'})],\n",
       " 'answer': 'Según Stephen R. Covey, los tres primeros hábitos de la gente altamente efectiva son:\\n\\n1. El Primer Hábito: Ser Proactivo (Be Proactive). Significa tomar conciencia de tu propia naturaleza y desarrollar la capacidad para elegir tus propias acciones y pensamientos.\\n2. El Segundo Hábito: Comenzar con el Fin en Mente (Begin with the End in Mind). Consiste en establecer metas claras y definidas, y trabajar hacia ellas de manera proactiva.\\n3. El Tercer Hábito: Pon en Práctica lo que Aprendes (Put First Things First). Significa priorizar tus actividades y enfocarte en las cosas más importantes para alcanzar tus objetivos.\\n\\nEstos tres hábitos son fundamentales para desarrollar la proactividad, la visión y la disciplina necesarias para lograr el éxito.'}"
      ]
     },
     "execution_count": 9,
     "metadata": {},
     "output_type": "execute_result"
    }
   ],
   "source": [
    "respuesta('quisiera saber cuales son los 3 primeros habitos', llm, chroma_local, prompt(texto))"
   ]
  }
 ],
 "metadata": {
  "kernelspec": {
   "display_name": "base",
   "language": "python",
   "name": "python3"
  },
  "language_info": {
   "codemirror_mode": {
    "name": "ipython",
    "version": 3
   },
   "file_extension": ".py",
   "mimetype": "text/x-python",
   "name": "python",
   "nbconvert_exporter": "python",
   "pygments_lexer": "ipython3",
   "version": "3.11.5"
  }
 },
 "nbformat": 4,
 "nbformat_minor": 2
}
